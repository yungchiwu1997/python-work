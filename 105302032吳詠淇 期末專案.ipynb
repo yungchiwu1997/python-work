{
 "cells": [
  {
   "cell_type": "markdown",
   "metadata": {},
   "source": [
    "## 時間提醒器\n",
    "由於我經常長時間使用電腦，導致眼睛不舒適，於是想寫出一個時間到就會撥放音樂，提醒自己該休息的程式碼。"
   ]
  },
  {
   "cell_type": "code",
   "execution_count": null,
   "metadata": {
    "collapsed": true
   },
   "outputs": [],
   "source": []
  },
  {
   "cell_type": "markdown",
   "metadata": {},
   "source": [
    "#### step 1. 匯入所需的套件"
   ]
  },
  {
   "cell_type": "code",
   "execution_count": 1,
   "metadata": {
    "collapsed": false
   },
   "outputs": [],
   "source": [
    "import time"
   ]
  },
  {
   "cell_type": "code",
   "execution_count": 2,
   "metadata": {
    "collapsed": false
   },
   "outputs": [
    {
     "name": "stdout",
     "output_type": "stream",
     "text": [
      "pygame 1.9.6\n",
      "Hello from the pygame community. https://www.pygame.org/contribute.html\n"
     ]
    }
   ],
   "source": [
    "import pygame"
   ]
  },
  {
   "cell_type": "markdown",
   "metadata": {},
   "source": [
    "#### step2. 設定多久後要休息"
   ]
  },
  {
   "cell_type": "code",
   "execution_count": null,
   "metadata": {
    "collapsed": false
   },
   "outputs": [],
   "source": []
  },
  {
   "cell_type": "code",
   "execution_count": 6,
   "metadata": {
    "collapsed": false
   },
   "outputs": [
    {
     "data": {
      "text/plain": [
       "19"
      ]
     },
     "execution_count": 6,
     "metadata": {},
     "output_type": "execute_result"
    }
   ],
   "source": [
    "time.localtime().tm_hour##顯示當前時間"
   ]
  },
  {
   "cell_type": "code",
   "execution_count": 7,
   "metadata": {
    "collapsed": false
   },
   "outputs": [
    {
     "name": "stdout",
     "output_type": "stream",
     "text": [
      "幾小時後提醒我要休息呢?0\n",
      "幾分鐘後提醒我要休息呢?1\n",
      "播放音樂-甘蔗人\n"
     ]
    }
   ],
   "source": [
    "time_hr = input(\"幾小時後提醒我要休息呢?\")\n",
    "time_min = input(\"幾分鐘後提醒我要休息呢?\")\n",
    "breaktime = time.localtime() \n",
    "local_time = \"%H %M\"\n",
    "now = time.strftime(local_time, breaktime)\n",
    "now = now.split(' ')\n",
    "hr = int(now[0])+int(time_hr)\n",
    "minute = int(now[1])+int(time_min)\n",
    "x=1\n",
    "while x:\n",
    "    if time.localtime().tm_hour==hr and time.localtime().tm_min==minute:\n",
    "        reminder = \"甘蔗人.mp3\"\n",
    "        pygame.mixer.init(frequency=44100) \n",
    "        print(\"播放音樂-甘蔗人\")\n",
    "        pygame.mixer.music.load(reminder)\n",
    "        pygame.mixer.music.play()\n",
    "        x = 0\n",
    "    \n",
    "    "
   ]
  },
  {
   "cell_type": "markdown",
   "metadata": {},
   "source": [
    "#### step3. 若要停止音樂則輸入下方程式碼"
   ]
  },
  {
   "cell_type": "code",
   "execution_count": null,
   "metadata": {
    "collapsed": false
   },
   "outputs": [],
   "source": [
    "pygame.mixer.music.stop()"
   ]
  },
  {
   "cell_type": "markdown",
   "metadata": {},
   "source": []
  },
  {
   "cell_type": "code",
   "execution_count": 8,
   "metadata": {
    "collapsed": true
   },
   "outputs": [],
   "source": []
  },
  {
   "cell_type": "code",
   "execution_count": null,
   "metadata": {
    "collapsed": true
   },
   "outputs": [],
   "source": []
  }
 ],
 "metadata": {
  "kernelspec": {
   "display_name": "Python 3",
   "language": "python",
   "name": "python3"
  },
  "language_info": {
   "codemirror_mode": {
    "name": "ipython",
    "version": 3
   },
   "file_extension": ".py",
   "mimetype": "text/x-python",
   "name": "python",
   "nbconvert_exporter": "python",
   "pygments_lexer": "ipython3",
   "version": "3.5.2"
  }
 },
 "nbformat": 4,
 "nbformat_minor": 1
}
