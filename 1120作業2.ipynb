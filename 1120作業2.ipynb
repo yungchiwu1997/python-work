{
 "cells": [
  {
   "cell_type": "code",
   "execution_count": 3,
   "metadata": {},
   "outputs": [],
   "source": [
    "import numpy as np\n"
   ]
  },
  {
   "cell_type": "code",
   "execution_count": 22,
   "metadata": {},
   "outputs": [
    {
     "name": "stdout",
     "output_type": "stream",
     "text": [
      "西元出生年：1997\n",
      "屬牛22.0歲\n"
     ]
    }
   ],
   "source": [
    "birth = float(input('西元出生年：'))\n",
    "x = (birth-1911)\n",
    "if x % 12==0:\n",
    "    print('屬豬'+str(2019-birth)+'歲');\n",
    "elif x % 12==1:\n",
    "    print('屬鼠'+str(2019-birth)+'歲');\n",
    "elif x%12==2:\n",
    "    print('屬牛'+str(2019-birth)+'歲');\n",
    "elif x%12==3:\n",
    "    print('屬虎'+str(2019-birth)+'歲');\n",
    "elif x%12==4:\n",
    "    print('屬兔子'+str(2019-birth)+'歲');\n",
    "elif x%12==5:\n",
    "    print('屬龍'+str(2019-birth)+'歲');\n",
    "elif x%12==6:\n",
    "    print('屬蛇'+str(2019-birth)+'歲');\n",
    "elif x%12==7:\n",
    "    print('屬馬'+str(2019-birth)+'歲');\n",
    "elif x%12==8:\n",
    "    print('屬羊'+str(2019-birth)+'歲');\n",
    "elif x%12==9:\n",
    "    print('屬猴'+str(2019-birth)+'歲');\n",
    "elif x%12==10:\n",
    "    print('屬雞'+str(2019-birth)+'歲');\n",
    "else:\n",
    "    print('屬狗'+str(2019-birth)+'歲')"
   ]
  },
  {
   "cell_type": "code",
   "execution_count": null,
   "metadata": {},
   "outputs": [],
   "source": []
  },
  {
   "cell_type": "code",
   "execution_count": null,
   "metadata": {},
   "outputs": [],
   "source": []
  }
 ],
 "metadata": {
  "kernelspec": {
   "display_name": "Python 3",
   "language": "python",
   "name": "python3"
  },
  "language_info": {
   "codemirror_mode": {
    "name": "ipython",
    "version": 3
   },
   "file_extension": ".py",
   "mimetype": "text/x-python",
   "name": "python",
   "nbconvert_exporter": "python",
   "pygments_lexer": "ipython3",
   "version": "3.6.5"
  }
 },
 "nbformat": 4,
 "nbformat_minor": 2
}
