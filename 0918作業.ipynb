{
 "cells": [
  {
   "cell_type": "code",
   "execution_count": null,
   "metadata": {},
   "outputs": [],
   "source": [
    "import numpy as np"
   ]
  },
  {
   "cell_type": "code",
   "execution_count": null,
   "metadata": {},
   "outputs": [
    {
     "name": "stdout",
     "output_type": "stream",
     "text": [
      "小日記\n",
      ">>123\n"
     ]
    }
   ],
   "source": [
    "msg=\"a\"\n",
    "print(\"小日記\")\n",
    "while(msg!='要上班了'):\n",
    "    msg=input(\">>\")\n",
    "    if\"星期一\"in msg:\n",
    "        print(\"Moday blue拍拍\")\n",
    "    elif\"星期二\"in msg:\n",
    "        print(\"才第二天啊拍拍\")\n",
    "    elif\"星期三\"in msg:\n",
    "        print(\"過一半了拍拍\")\n",
    "    elif\"星期四\"in msg:\n",
    "        print(\"剩兩天了拍拍\")\n",
    "    elif\"星期五\"in msg:\n",
    "        print(\"放假了(　ﾟ∀ﾟ)つ\") \n",
    "    elif\"星期六\"in msg:\n",
    "        print(\"還有一天假(　ﾟ∀ﾟ)つ\") \n",
    "    else:\n",
    "        print(\"又要上班了呢^^\")\n"
   ]
  },
  {
   "cell_type": "code",
   "execution_count": 1,
   "metadata": {},
   "outputs": [],
   "source": [
    "from ipywidgets import interact"
   ]
  },
  {
   "cell_type": "code",
   "execution_count": 2,
   "metadata": {},
   "outputs": [
    {
     "data": {
      "application/vnd.jupyter.widget-view+json": {
       "model_id": "6e6a21f6f824446f867ad41e7023bad9",
       "version_major": 2,
       "version_minor": 0
      },
      "text/plain": [
       "interactive(children=(Dropdown(description='x', options={'周一': '小明or小憲', '周二': '中午:小華', '周三': '小庭', '周四': '小諴'…"
      ]
     },
     "metadata": {},
     "output_type": "display_data"
    },
    {
     "data": {
      "text/plain": [
       "<function __main__.f(x)>"
      ]
     },
     "execution_count": 2,
     "metadata": {},
     "output_type": "execute_result"
    }
   ],
   "source": [
    "def f(x):\n",
    "    print(x)\n",
    "interact(f,x={\"周一\":\"小明or小憲\",\"周二\":\"中午:小華\",\"周三\":\"小庭\",\"周四\":\"小諴\",\"周五\":\"小邦\",\"周六\":\"自己吃\",\"周日\":\"該認清沒朋友\"})"
   ]
  },
  {
   "cell_type": "code",
   "execution_count": null,
   "metadata": {},
   "outputs": [],
   "source": []
  }
 ],
 "metadata": {
  "kernelspec": {
   "display_name": "Python 3",
   "language": "python",
   "name": "python3"
  },
  "language_info": {
   "codemirror_mode": {
    "name": "ipython",
    "version": 3
   },
   "file_extension": ".py",
   "mimetype": "text/x-python",
   "name": "python",
   "nbconvert_exporter": "python",
   "pygments_lexer": "ipython3",
   "version": "3.6.5"
  }
 },
 "nbformat": 4,
 "nbformat_minor": 2
}
