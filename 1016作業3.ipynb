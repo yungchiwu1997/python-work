{
 "cells": [
  {
   "cell_type": "markdown",
   "metadata": {},
   "source": [
    "### 每月生活費計算\n"
   ]
  },
  {
   "cell_type": "code",
   "execution_count": 19,
   "metadata": {},
   "outputs": [],
   "source": [
    "class Account:\n",
    "    def __init__(self,account,amount,password,private_or_business):\n",
    "        self.account = account\n",
    "        self.amount = amount\n",
    "        self.password = password\n",
    "        self.private_or_business = private_or_business\n",
    "    def withdraw(self,money):\n",
    "        if self.amount>money:\n",
    "            self.amount = self.amount-money\n",
    "        else:\n",
    "            print(\"餘額不足~\")\n",
    "    def show(self):\n",
    "        print(\"帳戶代碼 \"+self.account+\" 剩餘$ \"+str(self.amount)+\" 喔~\" )"
   ]
  },
  {
   "cell_type": "code",
   "execution_count": 30,
   "metadata": {},
   "outputs": [],
   "source": [
    "a = Account('A2569156',55550,'13579','private')"
   ]
  },
  {
   "cell_type": "code",
   "execution_count": 31,
   "metadata": {},
   "outputs": [
    {
     "name": "stdout",
     "output_type": "stream",
     "text": [
      "餘額不足~\n"
     ]
    }
   ],
   "source": [
    "a.withdraw(55555)"
   ]
  },
  {
   "cell_type": "code",
   "execution_count": 32,
   "metadata": {},
   "outputs": [
    {
     "name": "stdout",
     "output_type": "stream",
     "text": [
      "帳戶代碼 A2569156 剩餘$ 55550 喔~\n"
     ]
    }
   ],
   "source": [
    "a.show()"
   ]
  },
  {
   "cell_type": "code",
   "execution_count": 28,
   "metadata": {},
   "outputs": [
    {
     "name": "stdout",
     "output_type": "stream",
     "text": [
      "帳戶代碼 A2569156 剩餘$ 25350 喔~\n"
     ]
    }
   ],
   "source": [
    "a.withdraw(10000)\n",
    "a.show()"
   ]
  },
  {
   "cell_type": "code",
   "execution_count": null,
   "metadata": {},
   "outputs": [],
   "source": []
  }
 ],
 "metadata": {
  "kernelspec": {
   "display_name": "Python 3",
   "language": "python",
   "name": "python3"
  },
  "language_info": {
   "codemirror_mode": {
    "name": "ipython",
    "version": 3
   },
   "file_extension": ".py",
   "mimetype": "text/x-python",
   "name": "python",
   "nbconvert_exporter": "python",
   "pygments_lexer": "ipython3",
   "version": "3.6.5"
  }
 },
 "nbformat": 4,
 "nbformat_minor": 2
}
