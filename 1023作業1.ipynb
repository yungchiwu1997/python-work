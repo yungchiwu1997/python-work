{
 "cells": [
  {
   "cell_type": "code",
   "execution_count": 1,
   "metadata": {},
   "outputs": [],
   "source": [
    "% matplotlib inline\n",
    "import matplotlib.pyplot as plt\n",
    "import numpy as np\n",
    "\n"
   ]
  },
  {
   "cell_type": "code",
   "execution_count": 2,
   "metadata": {},
   "outputs": [
    {
     "name": "stdout",
     "output_type": "stream",
     "text": [
      "調分囉100\n",
      "調分囉20\n",
      "調分囉84\n",
      "調分囉44\n",
      "調分囉0\n",
      "調分囉d\n"
     ]
    }
   ],
   "source": [
    "a = []\n",
    "g = True\n",
    "while g:\n",
    "    grade = input('調分囉')\n",
    "    if grade.isdigit():\n",
    "        a = a+[grade]\n",
    "    else:\n",
    "        a = [int(x) for x in a]\n",
    "        g = False\n"
   ]
  },
  {
   "cell_type": "code",
   "execution_count": 12,
   "metadata": {},
   "outputs": [
    {
     "data": {
      "text/plain": [
       "[100, 20, 84, 44, 0]"
      ]
     },
     "execution_count": 12,
     "metadata": {},
     "output_type": "execute_result"
    }
   ],
   "source": [
    "a\n"
   ]
  },
  {
   "cell_type": "code",
   "execution_count": 16,
   "metadata": {},
   "outputs": [
    {
     "name": "stdout",
     "output_type": "stream",
     "text": [
      "100\n",
      "32\n",
      "96\n",
      "56\n",
      "12\n"
     ]
    }
   ],
   "source": [
    "for x in a:\n",
    "    \n",
    "    if x+12 >100:\n",
    "        print(100)\n",
    "    else:\n",
    "        print(x+12)"
   ]
  },
  {
   "cell_type": "code",
   "execution_count": null,
   "metadata": {},
   "outputs": [],
   "source": []
  }
 ],
 "metadata": {
  "kernelspec": {
   "display_name": "Python 3",
   "language": "python",
   "name": "python3"
  },
  "language_info": {
   "codemirror_mode": {
    "name": "ipython",
    "version": 3
   },
   "file_extension": ".py",
   "mimetype": "text/x-python",
   "name": "python",
   "nbconvert_exporter": "python",
   "pygments_lexer": "ipython3",
   "version": "3.6.5"
  }
 },
 "nbformat": 4,
 "nbformat_minor": 2
}
