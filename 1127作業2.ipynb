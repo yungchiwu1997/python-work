{
 "cells": [
  {
   "cell_type": "markdown",
   "metadata": {},
   "source": [
    "### 台灣失業率資訊"
   ]
  },
  {
   "cell_type": "code",
   "execution_count": 13,
   "metadata": {},
   "outputs": [],
   "source": [
    "import pandas as pd\n",
    "df = pd.read_excel('labor.xls')"
   ]
  },
  {
   "cell_type": "code",
   "execution_count": 14,
   "metadata": {},
   "outputs": [
    {
     "data": {
      "text/html": [
       "<div>\n",
       "<style scoped>\n",
       "    .dataframe tbody tr th:only-of-type {\n",
       "        vertical-align: middle;\n",
       "    }\n",
       "\n",
       "    .dataframe tbody tr th {\n",
       "        vertical-align: top;\n",
       "    }\n",
       "\n",
       "    .dataframe thead th {\n",
       "        text-align: right;\n",
       "    }\n",
       "</style>\n",
       "<table border=\"1\" class=\"dataframe\">\n",
       "  <thead>\n",
       "    <tr style=\"text-align: right;\">\n",
       "      <th></th>\n",
       "      <th>N</th>\n",
       "      <th>U</th>\n",
       "      <th>NILF</th>\n",
       "    </tr>\n",
       "  </thead>\n",
       "  <tbody>\n",
       "    <tr>\n",
       "      <th>1978-01-01</th>\n",
       "      <td>6117</td>\n",
       "      <td>125</td>\n",
       "      <td>4420</td>\n",
       "    </tr>\n",
       "    <tr>\n",
       "      <th>1978-02-01</th>\n",
       "      <td>6081</td>\n",
       "      <td>114</td>\n",
       "      <td>4468</td>\n",
       "    </tr>\n",
       "    <tr>\n",
       "      <th>1978-03-01</th>\n",
       "      <td>6066</td>\n",
       "      <td>108</td>\n",
       "      <td>4531</td>\n",
       "    </tr>\n",
       "    <tr>\n",
       "      <th>1978-04-01</th>\n",
       "      <td>6131</td>\n",
       "      <td>98</td>\n",
       "      <td>4488</td>\n",
       "    </tr>\n",
       "    <tr>\n",
       "      <th>1978-05-01</th>\n",
       "      <td>6155</td>\n",
       "      <td>106</td>\n",
       "      <td>4485</td>\n",
       "    </tr>\n",
       "  </tbody>\n",
       "</table>\n",
       "</div>"
      ],
      "text/plain": [
       "               N    U  NILF\n",
       "1978-01-01  6117  125  4420\n",
       "1978-02-01  6081  114  4468\n",
       "1978-03-01  6066  108  4531\n",
       "1978-04-01  6131   98  4488\n",
       "1978-05-01  6155  106  4485"
      ]
     },
     "execution_count": 14,
     "metadata": {},
     "output_type": "execute_result"
    }
   ],
   "source": [
    "df.head()"
   ]
  },
  {
   "cell_type": "markdown",
   "metadata": {},
   "source": [
    "### 台灣的失業人口U / 就業人口N / 非勞動力人口O"
   ]
  },
  {
   "cell_type": "code",
   "execution_count": 15,
   "metadata": {},
   "outputs": [],
   "source": [
    "df['if'] = df['N']+df['U']"
   ]
  },
  {
   "cell_type": "code",
   "execution_count": 16,
   "metadata": {},
   "outputs": [],
   "source": [
    "df[\"urate\"]=df[\"U\"]/df[\"if\"]"
   ]
  },
  {
   "cell_type": "code",
   "execution_count": 17,
   "metadata": {},
   "outputs": [
    {
     "data": {
      "text/html": [
       "<div>\n",
       "<style scoped>\n",
       "    .dataframe tbody tr th:only-of-type {\n",
       "        vertical-align: middle;\n",
       "    }\n",
       "\n",
       "    .dataframe tbody tr th {\n",
       "        vertical-align: top;\n",
       "    }\n",
       "\n",
       "    .dataframe thead th {\n",
       "        text-align: right;\n",
       "    }\n",
       "</style>\n",
       "<table border=\"1\" class=\"dataframe\">\n",
       "  <thead>\n",
       "    <tr style=\"text-align: right;\">\n",
       "      <th></th>\n",
       "      <th>N</th>\n",
       "      <th>U</th>\n",
       "      <th>NILF</th>\n",
       "      <th>if</th>\n",
       "      <th>urate</th>\n",
       "      <th>If_rate</th>\n",
       "    </tr>\n",
       "  </thead>\n",
       "  <tbody>\n",
       "    <tr>\n",
       "      <th>1978-01-01</th>\n",
       "      <td>6117</td>\n",
       "      <td>125</td>\n",
       "      <td>4420</td>\n",
       "      <td>6242</td>\n",
       "      <td>0.020026</td>\n",
       "      <td>0.585444</td>\n",
       "    </tr>\n",
       "    <tr>\n",
       "      <th>1978-02-01</th>\n",
       "      <td>6081</td>\n",
       "      <td>114</td>\n",
       "      <td>4468</td>\n",
       "      <td>6195</td>\n",
       "      <td>0.018402</td>\n",
       "      <td>0.580981</td>\n",
       "    </tr>\n",
       "    <tr>\n",
       "      <th>1978-03-01</th>\n",
       "      <td>6066</td>\n",
       "      <td>108</td>\n",
       "      <td>4531</td>\n",
       "      <td>6174</td>\n",
       "      <td>0.017493</td>\n",
       "      <td>0.576740</td>\n",
       "    </tr>\n",
       "    <tr>\n",
       "      <th>1978-04-01</th>\n",
       "      <td>6131</td>\n",
       "      <td>98</td>\n",
       "      <td>4488</td>\n",
       "      <td>6229</td>\n",
       "      <td>0.015733</td>\n",
       "      <td>0.581226</td>\n",
       "    </tr>\n",
       "    <tr>\n",
       "      <th>1978-05-01</th>\n",
       "      <td>6155</td>\n",
       "      <td>106</td>\n",
       "      <td>4485</td>\n",
       "      <td>6261</td>\n",
       "      <td>0.016930</td>\n",
       "      <td>0.582635</td>\n",
       "    </tr>\n",
       "  </tbody>\n",
       "</table>\n",
       "</div>"
      ],
      "text/plain": [
       "               N    U  NILF    if     urate   If_rate\n",
       "1978-01-01  6117  125  4420  6242  0.020026  0.585444\n",
       "1978-02-01  6081  114  4468  6195  0.018402  0.580981\n",
       "1978-03-01  6066  108  4531  6174  0.017493  0.576740\n",
       "1978-04-01  6131   98  4488  6229  0.015733  0.581226\n",
       "1978-05-01  6155  106  4485  6261  0.016930  0.582635"
      ]
     },
     "execution_count": 17,
     "metadata": {},
     "output_type": "execute_result"
    }
   ],
   "source": [
    "df[\"If_rate\"]=df[\"if\"]/(df[\"if\"]+df[\"NILF\"])\n",
    "df.head()"
   ]
  },
  {
   "cell_type": "code",
   "execution_count": 18,
   "metadata": {},
   "outputs": [
    {
     "data": {
      "text/html": [
       "<div>\n",
       "<style scoped>\n",
       "    .dataframe tbody tr th:only-of-type {\n",
       "        vertical-align: middle;\n",
       "    }\n",
       "\n",
       "    .dataframe tbody tr th {\n",
       "        vertical-align: top;\n",
       "    }\n",
       "\n",
       "    .dataframe thead th {\n",
       "        text-align: right;\n",
       "    }\n",
       "</style>\n",
       "<table border=\"1\" class=\"dataframe\">\n",
       "  <thead>\n",
       "    <tr style=\"text-align: right;\">\n",
       "      <th></th>\n",
       "      <th>N</th>\n",
       "      <th>U</th>\n",
       "      <th>NILF</th>\n",
       "      <th>if</th>\n",
       "      <th>urate</th>\n",
       "      <th>If_rate</th>\n",
       "    </tr>\n",
       "  </thead>\n",
       "  <tbody>\n",
       "    <tr>\n",
       "      <th>1978-01-01</th>\n",
       "      <td>6117</td>\n",
       "      <td>125</td>\n",
       "      <td>4420</td>\n",
       "      <td>6242</td>\n",
       "      <td>0.020026</td>\n",
       "      <td>0.585444</td>\n",
       "    </tr>\n",
       "    <tr>\n",
       "      <th>1978-02-01</th>\n",
       "      <td>6081</td>\n",
       "      <td>114</td>\n",
       "      <td>4468</td>\n",
       "      <td>6195</td>\n",
       "      <td>0.018402</td>\n",
       "      <td>0.580981</td>\n",
       "    </tr>\n",
       "    <tr>\n",
       "      <th>1978-03-01</th>\n",
       "      <td>6066</td>\n",
       "      <td>108</td>\n",
       "      <td>4531</td>\n",
       "      <td>6174</td>\n",
       "      <td>0.017493</td>\n",
       "      <td>0.576740</td>\n",
       "    </tr>\n",
       "    <tr>\n",
       "      <th>1978-04-01</th>\n",
       "      <td>6131</td>\n",
       "      <td>98</td>\n",
       "      <td>4488</td>\n",
       "      <td>6229</td>\n",
       "      <td>0.015733</td>\n",
       "      <td>0.581226</td>\n",
       "    </tr>\n",
       "    <tr>\n",
       "      <th>1978-05-01</th>\n",
       "      <td>6155</td>\n",
       "      <td>106</td>\n",
       "      <td>4485</td>\n",
       "      <td>6261</td>\n",
       "      <td>0.016930</td>\n",
       "      <td>0.582635</td>\n",
       "    </tr>\n",
       "  </tbody>\n",
       "</table>\n",
       "</div>"
      ],
      "text/plain": [
       "               N    U  NILF    if     urate   If_rate\n",
       "1978-01-01  6117  125  4420  6242  0.020026  0.585444\n",
       "1978-02-01  6081  114  4468  6195  0.018402  0.580981\n",
       "1978-03-01  6066  108  4531  6174  0.017493  0.576740\n",
       "1978-04-01  6131   98  4488  6229  0.015733  0.581226\n",
       "1978-05-01  6155  106  4485  6261  0.016930  0.582635"
      ]
     },
     "execution_count": 18,
     "metadata": {},
     "output_type": "execute_result"
    }
   ],
   "source": [
    "df.head()"
   ]
  },
  {
   "cell_type": "markdown",
   "metadata": {},
   "source": [
    "#### 勞動力為if / 失業率為urate / 勞動參與率為if_rate "
   ]
  },
  {
   "cell_type": "markdown",
   "metadata": {},
   "source": [
    "#### 台灣失業率"
   ]
  },
  {
   "cell_type": "code",
   "execution_count": 19,
   "metadata": {},
   "outputs": [
    {
     "data": {
      "text/plain": [
       "<matplotlib.legend.Legend at 0x1c375e53908>"
      ]
     },
     "execution_count": 19,
     "metadata": {},
     "output_type": "execute_result"
    },
    {
     "data": {
      "image/png": "[encoded data removed]",
      "text/plain": [
       "<Figure size 432x288 with 1 Axes>"
      ]
     },
     "metadata": {},
     "output_type": "display_data"
    }
   ],
   "source": [
    "%matplotlib inline\n",
    "import matplotlib.pyplot as plt\n",
    "fig,ax=plt.subplots()\n",
    "ax.plot(df.index,df[\"urate\"],label=\"Unemployment Rate\",color=\"k\")\n",
    "ax.legend(loc=\"best\")"
   ]
  },
  {
   "cell_type": "markdown",
   "metadata": {},
   "source": [
    "#### 台灣勞動參與率"
   ]
  },
  {
   "cell_type": "code",
   "execution_count": 20,
   "metadata": {},
   "outputs": [
    {
     "data": {
      "text/plain": [
       "<matplotlib.legend.Legend at 0x1c375eb1f28>"
      ]
     },
     "execution_count": 20,
     "metadata": {},
     "output_type": "execute_result"
    },
    {
     "data": {
      "image/png": "[encoded data removed]",
      "text/plain": [
       "<Figure size 432x288 with 1 Axes>"
      ]
     },
     "metadata": {},
     "output_type": "display_data"
    }
   ],
   "source": [
    "fig,a=plt.subplots()\n",
    "a.plot(df.index,df.If_rate,\n",
    "       label=\"Labor Force Participation Rate\",\n",
    "      color=\"k\")\n",
    "a.legend(loc=\"best\")"
   ]
  },
  {
   "cell_type": "code",
   "execution_count": null,
   "metadata": {},
   "outputs": [],
   "source": []
  },
  {
   "cell_type": "code",
   "execution_count": null,
   "metadata": {},
   "outputs": [],
   "source": []
  }
 ],
 "metadata": {
  "kernelspec": {
   "display_name": "Python 3",
   "language": "python",
   "name": "python3"
  },
  "language_info": {
   "codemirror_mode": {
    "name": "ipython",
    "version": 3
   },
   "file_extension": ".py",
   "mimetype": "text/x-python",
   "name": "python",
   "nbconvert_exporter": "python",
   "pygments_lexer": "ipython3",
   "version": "3.6.5"
  }
 },
 "nbformat": 4,
 "nbformat_minor": 2
}
