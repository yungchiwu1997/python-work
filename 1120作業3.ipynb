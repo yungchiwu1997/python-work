{
 "cells": [
  {
   "cell_type": "markdown",
   "metadata": {},
   "source": [
    "### 定時器\n"
   ]
  },
  {
   "cell_type": "code",
   "execution_count": 14,
   "metadata": {},
   "outputs": [
    {
     "name": "stdout",
     "output_type": "stream",
     "text": [
      "timer run: 2019-11-26 14:53:16\n",
      "timer run: 2019-11-26 14:53:19\n"
     ]
    }
   ],
   "source": [
    "import threading\n",
    "import time\n",
    "def run():\n",
    "    print(\"timer run:\" ,time.strftime('%Y-%m-%d %H:%M:%S',time.localtime(time.time())))\n",
    "global timer\n",
    "timer = threading.Timer(0,run) # 0代表執行當下時間\n",
    "timer.start()\n",
    "timer = threading.Timer(3, run) # 3代表3秒後再次執行\n",
    "timer.start()\n"
   ]
  },
  {
   "cell_type": "code",
   "execution_count": null,
   "metadata": {},
   "outputs": [],
   "source": []
  }
 ],
 "metadata": {
  "kernelspec": {
   "display_name": "Python 3",
   "language": "python",
   "name": "python3"
  },
  "language_info": {
   "codemirror_mode": {
    "name": "ipython",
    "version": 3
   },
   "file_extension": ".py",
   "mimetype": "text/x-python",
   "name": "python",
   "nbconvert_exporter": "python",
   "pygments_lexer": "ipython3",
   "version": "3.6.5"
  }
 },
 "nbformat": 4,
 "nbformat_minor": 2
}
