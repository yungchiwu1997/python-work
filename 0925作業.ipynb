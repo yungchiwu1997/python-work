{
 "cells": [
  {
   "cell_type": "code",
   "execution_count": 3,
   "metadata": {},
   "outputs": [],
   "source": [
    "% matplotlib inline\n",
    "import matplotlib.pyplot as plt\n",
    "import numpy as np"
   ]
  },
  {
   "cell_type": "markdown",
   "metadata": {},
   "source": [
    "### 計算BMI"
   ]
  },
  {
   "cell_type": "code",
   "execution_count": 6,
   "metadata": {},
   "outputs": [
    {
     "name": "stdout",
     "output_type": "stream",
     "text": [
      "請輸入體重60\n",
      "請輸入身高(m)1.68\n",
      "21.258503401360546\n"
     ]
    }
   ],
   "source": [
    "kg = float(input(\"請輸入體重\"))\n",
    "height = float(input(\"請輸入身高(m)\"))\n",
    "print(kg/height**2)\n"
   ]
  },
  {
   "cell_type": "markdown",
   "metadata": {},
   "source": [
    "### 你有過胖嗎?"
   ]
  },
  {
   "cell_type": "code",
   "execution_count": 4,
   "metadata": {},
   "outputs": [
    {
     "name": "stdout",
     "output_type": "stream",
     "text": [
      "請輸入體重100\n",
      "請輸入身高(m)1.5\n",
      "不要再吃ㄌ.....\n"
     ]
    }
   ],
   "source": [
    "kg = float(input(\"請輸入體重\"))\n",
    "height = float(input(\"請輸入身高(m)\"))\n",
    "BMI = kg/height**2\n",
    "if BMI < 18.5:\n",
    "    print(\"太瘦囉\")\n",
    "elif 18.5<=BMI<24:\n",
    "    print(\"非常正常\")\n",
    "elif 24<=BMI<27.9:\n",
    "    print(\"些微胖呢><\")\n",
    "else:\n",
    "    print(\"不要再吃ㄌ.....\")"
   ]
  },
  {
   "cell_type": "markdown",
   "metadata": {},
   "source": [
    "### 消耗多少卡洛里了~(以55kg為範例)"
   ]
  },
  {
   "cell_type": "code",
   "execution_count": 9,
   "metadata": {},
   "outputs": [
    {
     "name": "stdout",
     "output_type": "stream",
     "text": [
      "運動幾分鐘啦?50\n"
     ]
    },
    {
     "data": {
      "application/vnd.jupyter.widget-view+json": {
       "model_id": "073a142b37544310affdce583901b389",
       "version_major": 2,
       "version_minor": 0
      },
      "text/plain": [
       "interactive(children=(Dropdown(description='x', options={'走路': 142.0, '飛輪': 228.33333333333334, '排球': 233.3333…"
      ]
     },
     "metadata": {},
     "output_type": "display_data"
    },
    {
     "data": {
      "text/plain": [
       "<function __main__.f(x)>"
      ]
     },
     "execution_count": 9,
     "metadata": {},
     "output_type": "execute_result"
    }
   ],
   "source": [
    "from ipywidgets import interact\n",
    "min = float(input(\"運動幾分鐘啦?\"))\n",
    "def f(x):\n",
    "    print(\"你消耗了\",x,\"仟卡喔\")\n",
    "interact(f,x={\"走路\":np.round(min*85/30,0),\"飛輪\":min*137/30,\n",
    "              \"排球\":min*140/30});"
   ]
  },
  {
   "cell_type": "markdown",
   "metadata": {},
   "source": [
    "### 選歌系統"
   ]
  },
  {
   "cell_type": "code",
   "execution_count": 13,
   "metadata": {},
   "outputs": [
    {
     "data": {
      "application/vnd.jupyter.widget-view+json": {
       "model_id": "be44d9fbc004487486459d6b6951b266",
       "version_major": 2,
       "version_minor": 0
      },
      "text/plain": [
       "interactive(children=(Dropdown(description='x', options={'饒舌': 'DS89Vb07C-U', '情歌': '-lEhWfucJMs', '失戀': 'Ew4V…"
      ]
     },
     "metadata": {},
     "output_type": "display_data"
    }
   ],
   "source": [
    "def f(x):\n",
    "    print(\"聽聽這個\",\"https://www.youtube.com/watch?v=\"+x,\"!\")\n",
    "interact(f,x={\"饒舌\":'DS89Vb07C-U',\"情歌\":\"-lEhWfucJMs\",\"失戀\":\"Ew4VvF0DPMc\"});"
   ]
  },
  {
   "cell_type": "code",
   "execution_count": null,
   "metadata": {},
   "outputs": [],
   "source": []
  }
 ],
 "metadata": {
  "kernelspec": {
   "display_name": "Python 3",
   "language": "python",
   "name": "python3"
  },
  "language_info": {
   "codemirror_mode": {
    "name": "ipython",
    "version": 3
   },
   "file_extension": ".py",
   "mimetype": "text/x-python",
   "name": "python",
   "nbconvert_exporter": "python",
   "pygments_lexer": "ipython3",
   "version": "3.6.5"
  }
 },
 "nbformat": 4,
 "nbformat_minor": 2
}
