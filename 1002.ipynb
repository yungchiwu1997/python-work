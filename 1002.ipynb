{
 "cells": [
  {
   "cell_type": "code",
   "execution_count": 1,
   "metadata": {},
   "outputs": [],
   "source": [
    "% matplotlib inline\n",
    "import matplotlib.pyplot as plt\n",
    "import numpy as np\n",
    "import pandas as pd"
   ]
  },
  {
   "cell_type": "code",
   "execution_count": 2,
   "metadata": {},
   "outputs": [],
   "source": [
    "from numpy.random import randint"
   ]
  },
  {
   "cell_type": "code",
   "execution_count": 3,
   "metadata": {},
   "outputs": [
    {
     "name": "stdout",
     "output_type": "stream",
     "text": [
      "8,2,6,6,7,8,2,4,1,7,"
     ]
    }
   ],
   "source": [
    "for i in range(10):\n",
    "    print(randint(1,10),end=\",\")"
   ]
  },
  {
   "cell_type": "code",
   "execution_count": 4,
   "metadata": {},
   "outputs": [],
   "source": [
    "words='''我\n",
    "你\n",
    "花朵\n",
    "微風\n",
    "輕輕\n",
    "親親\n",
    "靈魂\n",
    "文山區\n",
    "思念\n",
    "他\n",
    "你們\n",
    "忘記\n",
    "哭\n",
    "悄悄的\n",
    "青春'''"
   ]
  },
  {
   "cell_type": "code",
   "execution_count": 5,
   "metadata": {},
   "outputs": [],
   "source": [
    "phrase = words.split(\"\\n\")"
   ]
  },
  {
   "cell_type": "code",
   "execution_count": 6,
   "metadata": {},
   "outputs": [],
   "source": [
    "from numpy.random import sample, choice    "
   ]
  },
  {
   "cell_type": "code",
   "execution_count": 10,
   "metadata": {},
   "outputs": [
    {
     "data": {
      "text/plain": [
       "'青春哭微風花朵思念'"
      ]
     },
     "execution_count": 10,
     "metadata": {},
     "output_type": "execute_result"
    }
   ],
   "source": [
    "P=[]\n",
    "I = randint(3,6)\n",
    "for i in range(I):\n",
    "    egg = choice(phrase,I)\n",
    "\"\".join(egg)\n"
   ]
  },
  {
   "cell_type": "code",
   "execution_count": 8,
   "metadata": {},
   "outputs": [
    {
     "name": "stdout",
     "output_type": "stream",
     "text": [
      "他\n",
      "青春 靈魂\n",
      "思念 哭 文山區 花朵\n",
      "悄悄的 我 你 靈魂\n",
      "花朵\n"
     ]
    }
   ],
   "source": [
    "n=randint(3,6)\n",
    "for i in range(n):\n",
    "    k = randint(1,5)\n",
    "    egg = choice(phrase,k)\n",
    "    ham = \" \".join(egg)\n",
    "    print(ham)"
   ]
  },
  {
   "cell_type": "code",
   "execution_count": 11,
   "metadata": {},
   "outputs": [
    {
     "name": "stdout",
     "output_type": "stream",
     "text": [
      "The following commands were written to file `'poem.py'1.py`:\n",
      "from numpy.random import randint\n",
      "for i in range(10):\n",
      "    print(randint(1,10),end=\",\")\n",
      "words='''我\n",
      "你\n",
      "花朵\n",
      "微風\n",
      "輕輕\n",
      "親親\n",
      "靈魂\n",
      "文山區\n",
      "思念\n",
      "他\n",
      "你們\n",
      "忘記\n",
      "哭\n",
      "悄悄的\n",
      "青春'''\n",
      "phrase = words.split(\"\\n\")\n",
      "from numpy.random import sample, choice    \n",
      "n=randint(3,6)\n",
      "for i in range(n):\n",
      "    k = randint(1,5)\n",
      "    egg = choice(phrase,k)\n",
      "    ham = \" \".join(egg)\n",
      "    print(ham)\n"
     ]
    }
   ],
   "source": [
    "% save'poem.py'1 2 3 4 5 6 8"
   ]
  },
  {
   "cell_type": "code",
   "execution_count": null,
   "metadata": {},
   "outputs": [],
   "source": []
  }
 ],
 "metadata": {
  "kernelspec": {
   "display_name": "Python 3",
   "language": "python",
   "name": "python3"
  },
  "language_info": {
   "codemirror_mode": {
    "name": "ipython",
    "version": 3
   },
   "file_extension": ".py",
   "mimetype": "text/x-python",
   "name": "python",
   "nbconvert_exporter": "python",
   "pygments_lexer": "ipython3",
   "version": "3.6.5"
  }
 },
 "nbformat": 4,
 "nbformat_minor": 2
}
