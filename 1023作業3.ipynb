{
 "cells": [
  {
   "cell_type": "code",
   "execution_count": 1,
   "metadata": {},
   "outputs": [
    {
     "name": "stdout",
     "output_type": "stream",
     "text": [
      "輸入政黨，輸入end離開english veg\n",
      "請輸入得票比例(%)38\n",
      "輸入政黨，輸入end離開jelly\n",
      "請輸入得票比例(%)35\n",
      "輸入政黨，輸入end離開korea fish\n",
      "請輸入得票比例(%)25\n",
      "輸入政黨，輸入end離開AL show lotus\n",
      "請輸入得票比例(%)2\n",
      "輸入政黨，輸入end離開end\n"
     ]
    }
   ],
   "source": [
    "party=[]\n",
    "percent = []\n",
    "p = True\n",
    "while p:\n",
    "    poll = input('輸入政黨，輸入end離開')\n",
    "    if  poll != 'end':\n",
    "        party  += [poll]\n",
    "        percent +=[input('請輸入得票比例(%)')]\n",
    "    else:\n",
    "        percent = [int(x) for x in percent]\n",
    "        p = False\n",
    "    "
   ]
  },
  {
   "cell_type": "code",
   "execution_count": 2,
   "metadata": {},
   "outputs": [
    {
     "data": {
      "text/plain": [
       "['english veg', 'jelly', 'korea fish', 'AL show lotus']"
      ]
     },
     "execution_count": 2,
     "metadata": {},
     "output_type": "execute_result"
    }
   ],
   "source": [
    "party"
   ]
  },
  {
   "cell_type": "code",
   "execution_count": 3,
   "metadata": {},
   "outputs": [
    {
     "data": {
      "text/plain": [
       "[38, 35, 25, 2]"
      ]
     },
     "execution_count": 3,
     "metadata": {},
     "output_type": "execute_result"
    }
   ],
   "source": [
    "percent"
   ]
  },
  {
   "cell_type": "code",
   "execution_count": 4,
   "metadata": {},
   "outputs": [],
   "source": [
    "import numpy as np"
   ]
  },
  {
   "cell_type": "code",
   "execution_count": 20,
   "metadata": {},
   "outputs": [
    {
     "data": {
      "text/plain": [
       "array([7296000., 6720000., 4800000.,  384000.])"
      ]
     },
     "execution_count": 20,
     "metadata": {},
     "output_type": "execute_result"
    }
   ],
   "source": [
    "np.array(percent)*19200000/100\n"
   ]
  },
  {
   "cell_type": "code",
   "execution_count": 22,
   "metadata": {},
   "outputs": [
    {
     "name": "stdout",
     "output_type": "stream",
     "text": [
      "english veg可能會拿7296000.0票ㄛ\n",
      "jelly可能會拿6720000.0票ㄛ\n",
      "korea fish可能會拿4800000.0票ㄛ\n",
      "AL show lotus可能會拿384000.0票ㄛ\n"
     ]
    }
   ],
   "source": [
    "for i,j in zip(party,np.array(percent)*19200000/100):\n",
    "    print(i+'可能會拿'+str(j)+'票ㄛ')\n"
   ]
  },
  {
   "cell_type": "code",
   "execution_count": null,
   "metadata": {},
   "outputs": [],
   "source": []
  }
 ],
 "metadata": {
  "kernelspec": {
   "display_name": "Python 3",
   "language": "python",
   "name": "python3"
  },
  "language_info": {
   "codemirror_mode": {
    "name": "ipython",
    "version": 3
   },
   "file_extension": ".py",
   "mimetype": "text/x-python",
   "name": "python",
   "nbconvert_exporter": "python",
   "pygments_lexer": "ipython3",
   "version": "3.6.5"
  }
 },
 "nbformat": 4,
 "nbformat_minor": 2
}
